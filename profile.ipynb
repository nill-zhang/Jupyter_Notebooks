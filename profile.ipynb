{
 "cells": [
  {
   "cell_type": "markdown",
   "metadata": {},
   "source": [
    "This file gives some tools we can use for performance analysis"
   ]
  },
  {
   "cell_type": "code",
   "execution_count": 65,
   "metadata": {
    "collapsed": true
   },
   "outputs": [],
   "source": [
    "import time"
   ]
  },
  {
   "cell_type": "code",
   "execution_count": 81,
   "metadata": {
    "collapsed": true
   },
   "outputs": [],
   "source": [
    "import cProfile\n",
    "from functools import wraps\n",
    "def TimeCProfile(func):\n",
    "    @wraps(func)\n",
    "    def wrap_function(*args, **kwargs):\n",
    "        profile = cProfile.Profile()\n",
    "        profile.enable()\n",
    "        func(*args, **kwargs)\n",
    "        profile.disable()\n",
    "        profile.print_stats()\n",
    "    return wrap_function\n",
    "        "
   ]
  },
  {
   "cell_type": "code",
   "execution_count": 67,
   "metadata": {
    "collapsed": false
   },
   "outputs": [],
   "source": [
    "class TimeBenchmark(object):\n",
    "    \"\"\"A context manager class\"\"\"\n",
    "    def __init__(self):\n",
    "        self.start = time.clock()\n",
    "        \n",
    "    def __enter__(self):\n",
    "        self.start = time.clock()\n",
    "        return self\n",
    "    \n",
    "    def __exit__(self, type, value, traceback):\n",
    "        self.elapsed = time.clock() - self.start\n",
    "        print(\"elapsed time: %f\" % self.elapsed)\n",
    "        "
   ]
  },
  {
   "cell_type": "code",
   "execution_count": 68,
   "metadata": {
    "collapsed": false
   },
   "outputs": [],
   "source": [
    "def generate_number(num):\n",
    "    for i in range(num):\n",
    "        yield i\n",
    "\n",
    "        \n",
    "def construct_list1():\n",
    "    return [i**3 for i in generate_number(10000)]\n"
   ]
  },
  {
   "cell_type": "code",
   "execution_count": 69,
   "metadata": {
    "collapsed": false
   },
   "outputs": [
    {
     "name": "stdout",
     "output_type": "stream",
     "text": [
      "elapsed time: 0.015831\n"
     ]
    }
   ],
   "source": [
    "# using context manager\n",
    "with TimeBenchmark() as t:\n",
    "    construct_list1()\n"
   ]
  },
  {
   "cell_type": "code",
   "execution_count": 82,
   "metadata": {
    "collapsed": false
   },
   "outputs": [
    {
     "name": "stdout",
     "output_type": "stream",
     "text": [
      "         10004 function calls in 0.018 seconds\n",
      "\n",
      "   Ordered by: standard name\n",
      "\n",
      "   ncalls  tottime  percall  cumtime  percall filename:lineno(function)\n",
      "    10001    0.003    0.000    0.003    0.000 <ipython-input-68-2c6e83d28685>:1(generate_number)\n",
      "        1    0.000    0.000    0.018    0.018 <ipython-input-82-339feb241e34>:2(construct_list2)\n",
      "        1    0.015    0.015    0.018    0.018 <ipython-input-82-339feb241e34>:4(<listcomp>)\n",
      "        1    0.000    0.000    0.000    0.000 {method 'disable' of '_lsprof.Profiler' objects}\n",
      "\n",
      "\n"
     ]
    }
   ],
   "source": [
    "# using decorator\n",
    "@TimeCProfile\n",
    "def construct_list2():\n",
    "    return [i**3 for i in generate_number(10000)]\n",
    "construct_list2()"
   ]
  },
  {
   "cell_type": "code",
   "execution_count": 34,
   "metadata": {
    "collapsed": true
   },
   "outputs": [],
   "source": [
    "%load_ext line_profiler\n",
    "%load_ext memory_profiler"
   ]
  },
  {
   "cell_type": "code",
   "execution_count": 36,
   "metadata": {
    "collapsed": true
   },
   "outputs": [],
   "source": [
    "x  = [1,2,3,4.5]\n",
    "y = [x,{\"a\":x},\"Alex\" ]"
   ]
  },
  {
   "cell_type": "code",
   "execution_count": 45,
   "metadata": {
    "collapsed": false
   },
   "outputs": [
    {
     "name": "stdout",
     "output_type": "stream",
     "text": [
      "\n"
     ]
    }
   ],
   "source": [
    "from random import sample\n",
    "%mprun -f sample sample(x,3)"
   ]
  },
  {
   "cell_type": "code",
   "execution_count": 63,
   "metadata": {
    "collapsed": true
   },
   "outputs": [],
   "source": [
    "%lprun -f sample sample(x,2)"
   ]
  },
  {
   "cell_type": "code",
   "execution_count": 47,
   "metadata": {
    "collapsed": true
   },
   "outputs": [],
   "source": [
    "import objgraph"
   ]
  },
  {
   "cell_type": "code",
   "execution_count": 48,
   "metadata": {
    "collapsed": false
   },
   "outputs": [
    {
     "data": {
      "text/plain": [
       "[('function', 11777),\n",
       " ('dict', 8134),\n",
       " ('tuple', 5919),\n",
       " ('list', 3715),\n",
       " ('weakref', 3342),\n",
       " ('set', 2043),\n",
       " ('wrapper_descriptor', 1891),\n",
       " ('getset_descriptor', 1558),\n",
       " ('builtin_function_or_method', 1377),\n",
       " ('type', 1321)]"
      ]
     },
     "execution_count": 48,
     "metadata": {},
     "output_type": "execute_result"
    }
   ],
   "source": [
    "objgraph.most_common_types()"
   ]
  },
  {
   "cell_type": "code",
   "execution_count": 54,
   "metadata": {
    "collapsed": false
   },
   "outputs": [
    {
     "name": "stdout",
     "output_type": "stream",
     "text": [
      "function                      11773    +11773\n",
      "dict                           8041     +8041\n",
      "tuple                          5929     +5929\n",
      "list                           3741     +3741\n",
      "weakref                        3346     +3346\n",
      "set                            2043     +2043\n",
      "wrapper_descriptor             1891     +1891\n",
      "getset_descriptor              1556     +1556\n",
      "builtin_function_or_method     1447     +1447\n",
      "type                           1321     +1321\n"
     ]
    }
   ],
   "source": [
    "objgraph.show_growth()"
   ]
  },
  {
   "cell_type": "code",
   "execution_count": 55,
   "metadata": {
    "collapsed": true
   },
   "outputs": [],
   "source": [
    "z = x[:2]"
   ]
  },
  {
   "cell_type": "code",
   "execution_count": 56,
   "metadata": {
    "collapsed": false
   },
   "outputs": [
    {
     "name": "stdout",
     "output_type": "stream",
     "text": [
      "tuple                          5933        +4\n",
      "list                           3745        +4\n",
      "builtin_function_or_method     1451        +4\n",
      "weakref                        3349        +3\n",
      "_lru_list_elem                   37        +1\n",
      "list_iterator                     3        +1\n"
     ]
    }
   ],
   "source": [
    "objgraph.show_growth()"
   ]
  },
  {
   "cell_type": "code",
   "execution_count": 57,
   "metadata": {
    "collapsed": false
   },
   "outputs": [
    {
     "name": "stdout",
     "output_type": "stream",
     "text": [
      "list               3749        +4\n",
      "dict               8044        +3\n",
      "Name                  5        +2\n",
      "_lru_list_elem       38        +1\n",
      "Assign                1        +1\n"
     ]
    }
   ],
   "source": [
    "d = x\n",
    "objgraph.show_growth()"
   ]
  },
  {
   "cell_type": "code",
   "execution_count": null,
   "metadata": {
    "collapsed": true
   },
   "outputs": [],
   "source": []
  }
 ],
 "metadata": {
  "anaconda-cloud": {},
  "kernelspec": {
   "display_name": "Python [conda root]",
   "language": "python",
   "name": "conda-root-py"
  },
  "language_info": {
   "codemirror_mode": {
    "name": "ipython",
    "version": 3
   },
   "file_extension": ".py",
   "mimetype": "text/x-python",
   "name": "python",
   "nbconvert_exporter": "python",
   "pygments_lexer": "ipython3",
   "version": "3.5.2"
  }
 },
 "nbformat": 4,
 "nbformat_minor": 1
}
